{
  "nbformat": 4,
  "nbformat_minor": 0,
  "metadata": {
    "colab": {
      "name": "Amazon 8 pointer.ipynb",
      "provenance": [],
      "collapsed_sections": [],
      "authorship_tag": "ABX9TyPobehLpbTPafYUj4xGfRKx",
      "include_colab_link": true
    },
    "kernelspec": {
      "name": "python3",
      "display_name": "Python 3"
    },
    "language_info": {
      "name": "python"
    }
  },
  "cells": [
    {
      "cell_type": "markdown",
      "metadata": {
        "id": "view-in-github",
        "colab_type": "text"
      },
      "source": [
        "<a href=\"https://colab.research.google.com/github/hariPrasadCoder/8-pointer-analysis/blob/main/Amazon_8_pointer.ipynb\" target=\"_parent\"><img src=\"https://colab.research.google.com/assets/colab-badge.svg\" alt=\"Open In Colab\"/></a>"
      ]
    },
    {
      "cell_type": "code",
      "execution_count": 27,
      "metadata": {
        "id": "kS-s6mc0pAxP"
      },
      "outputs": [],
      "source": [
        "from bs4 import BeautifulSoup as bs\n",
        "import requests"
      ]
    },
    {
      "cell_type": "code",
      "source": [
        "page = requests.get('https://www.macrotrends.net/stocks/charts/AMZN/amazon/pe-ratio')\n",
        "soup = bs(page.content,\"lxml\")"
      ],
      "metadata": {
        "id": "yJna4LldxkYu"
      },
      "execution_count": 28,
      "outputs": []
    },
    {
      "cell_type": "code",
      "source": [
        "pe_ratio = float(soup.find(\"table\").find_all(\"tr\")[2].find_all(\"td\")[-1].text)\n",
        "pe_ratio"
      ],
      "metadata": {
        "colab": {
          "base_uri": "https://localhost:8080/"
        },
        "id": "sTxTo0O0QmhC",
        "outputId": "cf4a7daf-0b93-4093-c5c6-3fc0ac5a698b"
      },
      "execution_count": 29,
      "outputs": [
        {
          "output_type": "execute_result",
          "data": {
            "text/plain": [
              "65.98"
            ]
          },
          "metadata": {},
          "execution_count": 29
        }
      ]
    },
    {
      "cell_type": "code",
      "source": [
        "cr = requests.get('https://www.macrotrends.net/stocks/charts/AAPL/apple/current-ratio')\n",
        "soup = bs(cr.content,'lxml')"
      ],
      "metadata": {
        "id": "1QXx5zWgQra2"
      },
      "execution_count": 30,
      "outputs": []
    },
    {
      "cell_type": "code",
      "source": [
        "cr_table = soup.find( class_ = 'table')\n",
        "current_ratio = float(soup.find_all('tr')[2].find_all('td')[-1].text)\n",
        "current_ratio"
      ],
      "metadata": {
        "colab": {
          "base_uri": "https://localhost:8080/"
        },
        "id": "EBHtZPYTTjH1",
        "outputId": "45b9ffb6-2703-49d2-8dae-74280bbefcb9"
      },
      "execution_count": 31,
      "outputs": [
        {
          "output_type": "execute_result",
          "data": {
            "text/plain": [
              "1.08"
            ]
          },
          "metadata": {},
          "execution_count": 31
        }
      ]
    }
  ]
}