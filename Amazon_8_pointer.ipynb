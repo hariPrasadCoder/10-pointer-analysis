{
  "nbformat": 4,
  "nbformat_minor": 0,
  "metadata": {
    "colab": {
      "name": "Amazon 8 pointer.ipynb",
      "provenance": [],
      "collapsed_sections": [],
      "authorship_tag": "ABX9TyOFnNwa6v9bnsuixUurxUKA",
      "include_colab_link": true
    },
    "kernelspec": {
      "name": "python3",
      "display_name": "Python 3"
    },
    "language_info": {
      "name": "python"
    }
  },
  "cells": [
    {
      "cell_type": "markdown",
      "metadata": {
        "id": "view-in-github",
        "colab_type": "text"
      },
      "source": [
        "<a href=\"https://colab.research.google.com/github/hariPrasadCoder/8-pointer-analysis/blob/main/Amazon_8_pointer.ipynb\" target=\"_parent\"><img src=\"https://colab.research.google.com/assets/colab-badge.svg\" alt=\"Open In Colab\"/></a>"
      ]
    },
    {
      "cell_type": "code",
      "execution_count": 85,
      "metadata": {
        "id": "kS-s6mc0pAxP"
      },
      "outputs": [],
      "source": [
        "from bs4 import BeautifulSoup as bs\n",
        "import requests"
      ]
    },
    {
      "cell_type": "markdown",
      "source": [
        "## 1. PE Ratio"
      ],
      "metadata": {
        "id": "m6FSYr_kdPh3"
      }
    },
    {
      "cell_type": "code",
      "source": [
        "page = requests.get('https://www.macrotrends.net/stocks/charts/AMZN/amazon/pe-ratio')\n",
        "soup = bs(page.content,\"lxml\")"
      ],
      "metadata": {
        "id": "yJna4LldxkYu"
      },
      "execution_count": 86,
      "outputs": []
    },
    {
      "cell_type": "code",
      "source": [
        "pe_ratio = float(soup.find(\"table\").find_all(\"tr\")[2].find_all(\"td\")[-1].text)\n",
        "pe_ratio"
      ],
      "metadata": {
        "colab": {
          "base_uri": "https://localhost:8080/"
        },
        "id": "sTxTo0O0QmhC",
        "outputId": "f06e79a1-1a31-421e-efde-89fb15b61a5f"
      },
      "execution_count": 87,
      "outputs": [
        {
          "output_type": "execute_result",
          "data": {
            "text/plain": [
              "65.98"
            ]
          },
          "metadata": {},
          "execution_count": 87
        }
      ]
    },
    {
      "cell_type": "markdown",
      "source": [
        "## 2. Current Ratio"
      ],
      "metadata": {
        "id": "azjDJGkkdS7X"
      }
    },
    {
      "cell_type": "code",
      "source": [
        "cr = requests.get('https://www.macrotrends.net/stocks/charts/AMZN/amazon/current-ratio')\n",
        "soup = bs(cr.content,'lxml')"
      ],
      "metadata": {
        "id": "1QXx5zWgQra2"
      },
      "execution_count": 88,
      "outputs": []
    },
    {
      "cell_type": "code",
      "source": [
        "cr_table = soup.find( class_ = 'table')\n",
        "current_ratio = float(soup.find_all('tr')[2].find_all('td')[-1].text)\n",
        "current_ratio"
      ],
      "metadata": {
        "colab": {
          "base_uri": "https://localhost:8080/"
        },
        "id": "EBHtZPYTTjH1",
        "outputId": "bd00c003-6e43-49dc-c0ac-1606d52779b3"
      },
      "execution_count": 89,
      "outputs": [
        {
          "output_type": "execute_result",
          "data": {
            "text/plain": [
              "1.12"
            ]
          },
          "metadata": {},
          "execution_count": 89
        }
      ]
    },
    {
      "cell_type": "markdown",
      "source": [
        "## 3. ROCE"
      ],
      "metadata": {
        "id": "BI-6Fn7NdXU0"
      }
    },
    {
      "cell_type": "code",
      "source": [
        "page = requests.get('https://www.macrotrends.net/stocks/charts/AMZN/amazon/ebit')\n",
        "soup = bs(page.content)"
      ],
      "metadata": {
        "id": "ZbyvBzkyUyE6"
      },
      "execution_count": 90,
      "outputs": []
    },
    {
      "cell_type": "code",
      "source": [
        "ebit = int(soup.find('table',class_='historical_data_table table').find_all('tr')[1].find_all('td')[1].text.replace(',','')[1:])\n",
        "ebit"
      ],
      "metadata": {
        "colab": {
          "base_uri": "https://localhost:8080/"
        },
        "id": "kMvCMqGiU8N2",
        "outputId": "4a8b371e-bbd6-4b6f-ad2e-b358802e3bc4"
      },
      "execution_count": 91,
      "outputs": [
        {
          "output_type": "execute_result",
          "data": {
            "text/plain": [
              "22899"
            ]
          },
          "metadata": {},
          "execution_count": 91
        }
      ]
    },
    {
      "cell_type": "code",
      "source": [
        "page = requests.get('https://www.macrotrends.net/stocks/charts/AMZN/amazon/total-long-term-liabilities')\n",
        "soup = bs(page.content)"
      ],
      "metadata": {
        "id": "yhLnRTJPVeIb"
      },
      "execution_count": 92,
      "outputs": []
    },
    {
      "cell_type": "code",
      "source": [
        "long_term_liabilities = int(soup.find('table',class_='historical_data_table table').find_all('tr')[1].find_all('td')[1].text.replace(',','')[1:])\n",
        "long_term_liabilities"
      ],
      "metadata": {
        "colab": {
          "base_uri": "https://localhost:8080/"
        },
        "id": "JJXFXX8SZVQx",
        "outputId": "ae663c62-1c9d-4571-8c0e-7543cdec04e1"
      },
      "execution_count": 93,
      "outputs": [
        {
          "output_type": "execute_result",
          "data": {
            "text/plain": [
              "101406"
            ]
          },
          "metadata": {},
          "execution_count": 93
        }
      ]
    },
    {
      "cell_type": "code",
      "source": [
        "page = requests.get('https://www.macrotrends.net/stocks/charts/AMZN/amazon/total-share-holder-equity')\n",
        "soup = bs(page.content)"
      ],
      "metadata": {
        "id": "ItBEpMbKZXpE"
      },
      "execution_count": 94,
      "outputs": []
    },
    {
      "cell_type": "code",
      "source": [
        "share_holders_equity = int(soup.find('table',class_='historical_data_table table').find_all('tr')[1].find_all('td')[1].text.replace(',','')[1:])\n",
        "share_holders_equity"
      ],
      "metadata": {
        "colab": {
          "base_uri": "https://localhost:8080/"
        },
        "id": "sdGWPN3QZl53",
        "outputId": "7c4f2e76-eafd-4de9-ba9e-b749d0f45308"
      },
      "execution_count": 95,
      "outputs": [
        {
          "output_type": "execute_result",
          "data": {
            "text/plain": [
              "93404"
            ]
          },
          "metadata": {},
          "execution_count": 95
        }
      ]
    },
    {
      "cell_type": "code",
      "source": [
        "roce = ebit/(long_term_liabilities + share_holders_equity)\n",
        "roce"
      ],
      "metadata": {
        "colab": {
          "base_uri": "https://localhost:8080/"
        },
        "id": "l3SEOG0mZnpS",
        "outputId": "ac311c47-e071-4f25-9400-ed07a71fd04d"
      },
      "execution_count": 96,
      "outputs": [
        {
          "output_type": "execute_result",
          "data": {
            "text/plain": [
              "0.11754530054925312"
            ]
          },
          "metadata": {},
          "execution_count": 96
        }
      ]
    },
    {
      "cell_type": "markdown",
      "source": [
        "## 4. Debt to Equity Ratio"
      ],
      "metadata": {
        "id": "hhD6woqadc5A"
      }
    },
    {
      "cell_type": "code",
      "source": [
        "d2e = requests.get('https://www.macrotrends.net/stocks/charts/AMZN/amazon/debt-equity-ratio')\n",
        "soup = bs(d2e.content,'lxml')"
      ],
      "metadata": {
        "id": "HDQ1JvqRZ06L"
      },
      "execution_count": 97,
      "outputs": []
    },
    {
      "cell_type": "code",
      "source": [
        "d2e_table = soup.find(class_ ='table')\n",
        "debt2equity = float(soup.find_all('tr')[2].find_all('td')[-1].text)\n",
        "debt2equity"
      ],
      "metadata": {
        "colab": {
          "base_uri": "https://localhost:8080/"
        },
        "id": "7IEDV4q4doUB",
        "outputId": "868f7ca1-10db-49e0-d2b0-ca10d926827f"
      },
      "execution_count": 98,
      "outputs": [
        {
          "output_type": "execute_result",
          "data": {
            "text/plain": [
              "2.17"
            ]
          },
          "metadata": {},
          "execution_count": 98
        }
      ]
    },
    {
      "cell_type": "markdown",
      "source": [
        "## 5. Inventory Turnover Ratio"
      ],
      "metadata": {
        "id": "7TwUQBgCdtB2"
      }
    },
    {
      "cell_type": "code",
      "source": [
        "ar = requests.get('https://www.macrotrends.net/stocks/charts/AMZN/amazon/inventory-turnover')\n",
        "soup = bs(ar.content,'lxml')"
      ],
      "metadata": {
        "id": "1CBFYmF0dr6x"
      },
      "execution_count": 99,
      "outputs": []
    },
    {
      "cell_type": "code",
      "source": [
        "inventory_turnover = float(soup.find(id = 'main_content').find('strong').text)\n",
        "inventory_turnover"
      ],
      "metadata": {
        "id": "K8p4HJeHdzaV",
        "outputId": "3807e7d1-4c32-44e9-989f-12db2892c6be",
        "colab": {
          "base_uri": "https://localhost:8080/"
        }
      },
      "execution_count": 100,
      "outputs": [
        {
          "output_type": "execute_result",
          "data": {
            "text/plain": [
              "2.03"
            ]
          },
          "metadata": {},
          "execution_count": 100
        }
      ]
    },
    {
      "cell_type": "code",
      "source": [
        ""
      ],
      "metadata": {
        "id": "H00sCiBXd1it"
      },
      "execution_count": null,
      "outputs": []
    }
  ]
}