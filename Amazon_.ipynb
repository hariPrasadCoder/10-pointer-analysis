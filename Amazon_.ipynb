{
  "nbformat": 4,
  "nbformat_minor": 0,
  "metadata": {
    "colab": {
      "name": "Amazon .ipynb",
      "provenance": [],
      "collapsed_sections": [],
      "include_colab_link": true
    },
    "kernelspec": {
      "name": "python3",
      "display_name": "Python 3"
    },
    "language_info": {
      "name": "python"
    }
  },
  "cells": [
    {
      "cell_type": "markdown",
      "metadata": {
        "id": "view-in-github",
        "colab_type": "text"
      },
      "source": [
        "<a href=\"https://colab.research.google.com/github/hariPrasadCoder/8-pointer-analysis/blob/main/Amazon_.ipynb\" target=\"_parent\"><img src=\"https://colab.research.google.com/assets/colab-badge.svg\" alt=\"Open In Colab\"/></a>"
      ]
    },
    {
      "cell_type": "code",
      "execution_count": 2,
      "metadata": {
        "id": "kS-s6mc0pAxP"
      },
      "outputs": [],
      "source": [
        "from bs4 import BeautifulSoup as bs\n",
        "import requests"
      ]
    },
    {
      "cell_type": "code",
      "source": [
        "page = requests.get('https://finance.yahoo.com/quote/MSFT?p=MSFT&.tsrc=fin-srch')\n",
        "soup = bs(page.content,\"lxml\")"
      ],
      "metadata": {
        "id": "j3-AuVq4prnC"
      },
      "execution_count": null,
      "outputs": []
    },
    {
      "cell_type": "code",
      "source": [
        "summary = soup.find(id='quote-summary')\n",
        "table = summary.find_all('table')[1]\n",
        "pe_ratio = float(table.find_all('tr')[2].text.split(')')[1])\n",
        "pe_ratio"
      ],
      "metadata": {
        "colab": {
          "base_uri": "https://localhost:8080/"
        },
        "id": "hm7KSOuSqC8q",
        "outputId": "f51a03f6-00af-4430-ec59-e6ddb818ffa5"
      },
      "execution_count": null,
      "outputs": [
        {
          "output_type": "execute_result",
          "data": {
            "text/plain": [
              "38.01"
            ]
          },
          "metadata": {},
          "execution_count": 33
        }
      ]
    },
    {
      "cell_type": "code",
      "source": [
        "page = requests.get('https://www.macrotrends.net/stocks/charts/AAPL/apple/')"
      ],
      "metadata": {
        "id": "yJna4LldxkYu"
      },
      "execution_count": null,
      "outputs": []
    },
    {
      "cell_type": "code",
      "source": [
        "cr = requests.get('https://www.macrotrends.net/stocks/charts/AAPL/apple/current-ratio')\n",
        "soup = bs(cr.content,'lxml')\n"
      ],
      "metadata": {
        "id": "JXQiVcLyP78-"
      },
      "execution_count": 3,
      "outputs": []
    },
    {
      "cell_type": "code",
      "source": [
        "cr_table = soup.find( class_ = 'table')\n",
        "current_ratio = float(soup.find_all('tr')[2].find_all('td')[-1].text)\n",
        "current_ratio\n"
      ],
      "metadata": {
        "colab": {
          "base_uri": "https://localhost:8080/"
        },
        "id": "hwX7XfcFQ1x1",
        "outputId": "73bfbf93-a4dd-417b-9ed3-ade1db8df5f0"
      },
      "execution_count": 13,
      "outputs": [
        {
          "output_type": "execute_result",
          "data": {
            "text/plain": [
              "1.08"
            ]
          },
          "metadata": {},
          "execution_count": 13
        }
      ]
    },
    {
      "cell_type": "code",
      "source": [
        ""
      ],
      "metadata": {
        "id": "LIIdnYUrSi5G"
      },
      "execution_count": null,
      "outputs": []
    }
  ]
}